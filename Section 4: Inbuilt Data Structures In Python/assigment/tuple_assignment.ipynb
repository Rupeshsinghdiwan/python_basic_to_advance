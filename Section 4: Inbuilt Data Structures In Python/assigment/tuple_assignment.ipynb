{
 "cells": [
  {
   "cell_type": "markdown",
   "id": "6cade624",
   "metadata": {},
   "source": [
    "# Module 3: Data Structures Assignments\n",
    "## Lesson 3.2: Tuples\n",
    "### Assignment 1: Creating and Accessing Tuples\n",
    "\n",
    "Create a tuple with the first 10 positive integers. Print the tuple.\n",
    "\n",
    "### Assignment 2: Accessing Tuple Elements\n",
    "\n",
    "Print the first, middle, and last elements of the tuple created in Assignment 1.\n",
    "\n",
    "### Assignment 3: Tuple Slicing\n",
    "\n",
    "Print the first three elements, the last three elements, and the elements from index 2 to 5 of the tuple created in Assignment 1.\n",
    "\n",
    "### Assignment 4: Nested Tuples\n",
    "\n",
    "Create a nested tuple representing a 3x3 matrix and print the matrix. Access and print the element at the second row and third column.\n",
    "\n",
    "### Assignment 5: Tuple Concatenation\n",
    "\n",
    "Concatenate two tuples: (1, 2, 3) and (4, 5, 6). Print the resulting tuple.\n",
    "\n",
    "### Assignment 6: Tuple Methods\n",
    "\n",
    "Create a tuple with duplicate elements and count the occurrences of an element. Find the index of the first occurrence of an element in the tuple.\n",
    "\n",
    "### Assignment 7: Unpacking Tuples\n",
    "\n",
    "Create a tuple with 5 elements and unpack it into 5 variables. Print the variables.\n",
    "\n",
    "### Assignment 8: Tuple Conversion\n",
    "\n",
    "Convert a list of the first 5 positive integers to a tuple. Print the tuple.\n",
    "\n",
    "### Assignment 9: Tuple of Tuples\n",
    "\n",
    "Create a tuple containing 3 tuples, each with 3 elements. Print the tuple of tuples.\n",
    "\n",
    "### Assignment 10: Tuple and List\n",
    "\n",
    "Create a tuple with the first 5 positive integers. Convert it to a list, append the number 6, and convert it back to a tuple. Print the resulting tuple.\n",
    "\n",
    "### Assignment 11: Tuple and String\n",
    "\n",
    "Create a tuple with the characters of a string. Join the tuple elements into a single string. Print the string.\n",
    "\n",
    "### Assignment 12: Tuple and Dictionary\n",
    "\n",
    "Create a dictionary with tuple keys and integer values. Print the dictionary.\n",
    "\n",
    "### Assignment 13: Nested Tuple Iteration\n",
    "\n",
    "Create a nested tuple and iterate over the elements, printing each element.\n",
    "\n",
    "### Assignment 14: Tuple and Set\n",
    "\n",
    "Create a tuple with duplicate elements. Convert it to a set to remove duplicates and print the resulting set.\n",
    "\n",
    "### Assignment 15: Tuple Functions\n",
    "\n",
    "Write functions that take a tuple and return the minimum, maximum, and sum of the elements. Print the results for a sample tuple."
   ]
  },
  {
   "cell_type": "code",
   "execution_count": 20,
   "metadata": {},
   "outputs": [
    {
     "name": "stdout",
     "output_type": "stream",
     "text": [
      "(1, 2, 3, 4, 5, 6, 7, 8, 9, 10)\n"
     ]
    }
   ],
   "source": [
    "#  Q 1\n",
    "tupl = tuple(range( 1, 11))\n",
    "print(tupl)"
   ]
  },
  {
   "cell_type": "code",
   "execution_count": 19,
   "id": "f59c8b5b",
   "metadata": {},
   "outputs": [
    {
     "name": "stdout",
     "output_type": "stream",
     "text": [
      "1\n",
      "6\n",
      "10\n"
     ]
    }
   ],
   "source": [
    "# Q 2\n",
    "print(tupl[0])\n",
    "x = len(tupl)\n",
    "print(tupl[x//2])\n",
    "print(tupl[-1])\n"
   ]
  },
  {
   "cell_type": "code",
   "execution_count": 26,
   "id": "1d41de80",
   "metadata": {},
   "outputs": [
    {
     "name": "stdout",
     "output_type": "stream",
     "text": [
      "(1, 2, 3)\n",
      "(8, 9, 10)\n",
      "(3, 4, 5, 6)\n"
     ]
    }
   ],
   "source": [
    "# Q 3\n",
    "print(tupl[ :3])\n",
    "print(tupl[-3:])\n",
    "print(tupl[2:6])\n"
   ]
  },
  {
   "cell_type": "code",
   "execution_count": 30,
   "id": "32d14b66",
   "metadata": {},
   "outputs": [
    {
     "name": "stdout",
     "output_type": "stream",
     "text": [
      " my matrix is  :\n",
      "(1, 2, 3)\n",
      "(4, 5, 6)\n",
      "(7, 8, 9)\n",
      " the element at 2nd row and 3 column are :6\n"
     ]
    }
   ],
   "source": [
    "# Q 4 \n",
    "matrix = (\n",
    "    (1,2,3),\n",
    "    (4,5,6),\n",
    "    (7,8,9)\n",
    ")\n",
    "print(\" my matrix is  :\")\n",
    "for row in matrix:\n",
    "    print(row)\n",
    "print(f\" the element at 2nd row and 3 column are :{ matrix[1][2]}\")"
   ]
  },
  {
   "cell_type": "code",
   "execution_count": 33,
   "id": "e16756c6",
   "metadata": {},
   "outputs": [
    {
     "name": "stdout",
     "output_type": "stream",
     "text": [
      "(1, 2, 3, 4, 5, 6)\n"
     ]
    }
   ],
   "source": [
    "# Q 5\n",
    "tup = (1,2,3)\n",
    "tupl= ( 4,5,6)\n",
    "tup_x = tup + tupl\n",
    "print(tup_x)"
   ]
  },
  {
   "cell_type": "code",
   "execution_count": 36,
   "id": "f1a226f8",
   "metadata": {},
   "outputs": [
    {
     "name": "stdout",
     "output_type": "stream",
     "text": [
      "the total occurrence of 6 is : 4\n",
      " the first occurrence of  6 is : 6\n"
     ]
    }
   ],
   "source": [
    "# Q 6\n",
    "tup = ( 1, 2, 3, 3,4 ,4 ,6, 7 ,6 , 6, 6)\n",
    "print(f\"the total occurrence of 6 is : { tup.count(6)}\")\n",
    "print(f\" the first occurrence of  6 is : { tup.index(6)}\")"
   ]
  },
  {
   "cell_type": "code",
   "execution_count": 39,
   "id": "a35e8d74",
   "metadata": {},
   "outputs": [
    {
     "name": "stdout",
     "output_type": "stream",
     "text": [
      "1 2 3 4 5 6\n"
     ]
    }
   ],
   "source": [
    "# Q 7 \n",
    "\n",
    "tup = ( 1, 2,3,4,5,6)\n",
    "a,b,c,d,e,f = tup\n",
    "print( a, b, c,d,e,f)"
   ]
  },
  {
   "cell_type": "code",
   "execution_count": 77,
   "id": "6398c90d",
   "metadata": {},
   "outputs": [
    {
     "name": "stdout",
     "output_type": "stream",
     "text": [
      "(1, 2, 3, 4, 5)\n"
     ]
    }
   ],
   "source": [
    "# Q 8\n",
    "list = [ 1, 2,3,4, 5]\n",
    "tup = tuple(list)\n",
    "print(tup)"
   ]
  },
  {
   "cell_type": "code",
   "execution_count": 43,
   "id": "28384697",
   "metadata": {},
   "outputs": [
    {
     "name": "stdout",
     "output_type": "stream",
     "text": [
      "1\n",
      "2\n",
      "3\n",
      "4\n",
      "5\n",
      "6\n",
      "7\n",
      "8\n",
      "9\n",
      "((1, 2, 3), (4, 5, 6), (7, 8, 9))\n"
     ]
    }
   ],
   "source": [
    "# Q 9\n",
    "tup =( (1,2,3),(4,5,6),(7,8,9))\n",
    "for row in tup:\n",
    "    for x in row:\n",
    "        print(x)\n",
    "print(tup)"
   ]
  },
  {
   "cell_type": "code",
   "execution_count": 81,
   "id": "ea252eeb",
   "metadata": {},
   "outputs": [
    {
     "name": "stdout",
     "output_type": "stream",
     "text": [
      "[1, 2, 3, 4, 5, 6]\n",
      "(1, 2, 3, 4, 5, 6)\n"
     ]
    }
   ],
   "source": [
    "# Q 10\n",
    "##del list    ## if code not working then use del list because it allreay used \n",
    "my_tuple = (1,2,3,4,5)\n",
    "my_list = list(my_tuple)\n",
    "my_list.append(6)\n",
    "print(my_list)\n",
    "my_tuple = tuple(my_list)\n",
    "print(my_tuple)\n"
   ]
  },
  {
   "cell_type": "code",
   "execution_count": 88,
   "id": "10b22d6f",
   "metadata": {},
   "outputs": [
    {
     "name": "stdout",
     "output_type": "stream",
     "text": [
      "('rupesh', 'raj')\n",
      "rupesh_raj\n",
      "apple_,_watermalen_,_cheary\n"
     ]
    }
   ],
   "source": [
    "# Q 11\n",
    "tup = ( \"rupesh\",\"raj\")\n",
    "print(tup)\n",
    "my_name = \"_\".join(tup)\n",
    "print(my_name)\n",
    "\n",
    "tup =( \"apple\",\"watermalen\",\"cheary\")\n",
    "print(\"_,_\".join(tup))"
   ]
  },
  {
   "cell_type": "code",
   "execution_count": 89,
   "id": "02072467",
   "metadata": {},
   "outputs": [
    {
     "name": "stdout",
     "output_type": "stream",
     "text": [
      "{(1, 2): 3, (3, 4): 7, (5, 6): 11}\n"
     ]
    }
   ],
   "source": [
    "# Q 12\n",
    "my_dic = {\n",
    "    (1,2): 3,\n",
    "    (3,4): 7,\n",
    "    (5,6): 11\n",
    "}\n",
    "print(my_dic)\n"
   ]
  },
  {
   "cell_type": "code",
   "execution_count": 90,
   "id": "bdf27dc8",
   "metadata": {},
   "outputs": [
    {
     "name": "stdout",
     "output_type": "stream",
     "text": [
      "1\n",
      "2\n",
      "3\n",
      "4\n",
      "5\n",
      "6\n",
      "7\n",
      "8\n",
      "9\n"
     ]
    }
   ],
   "source": [
    "# Q 13\n",
    "nested_tpl = (\n",
    "    (1, 2, 3),\n",
    "    (4, 5, 6),\n",
    "    (7, 8, 9)\n",
    ")\n",
    "for tpl in nested_tpl:\n",
    "    for elem in tpl:\n",
    "        print(elem)"
   ]
  },
  {
   "cell_type": "code",
   "execution_count": 91,
   "id": "d070fdb6",
   "metadata": {},
   "outputs": [
    {
     "name": "stdout",
     "output_type": "stream",
     "text": [
      "{1, 2, 3, 4, 5, 6}\n"
     ]
    }
   ],
   "source": [
    "# Q 14\n",
    "\n",
    "tup =(1,2,3,4,3,4,5,5,6)\n",
    "my_set = set(tup)\n",
    "print(my_set)"
   ]
  },
  {
   "cell_type": "code",
   "execution_count": 93,
   "id": "990aa87a",
   "metadata": {},
   "outputs": [
    {
     "name": "stdout",
     "output_type": "stream",
     "text": [
      " maximum no ____ 5\n",
      " minimum no ____ 1\n",
      " sum of no ____ 15\n"
     ]
    }
   ],
   "source": [
    "# Q 15 \n",
    "\n",
    "def min_max_sum(tup):\n",
    "    print(f\" maximum no ____ {max(tup)}\")\n",
    "    print(f\" minimum no ____ {min(tup)}\")\n",
    "    print(f\" sum of no ____ {sum(tup)}\")\n",
    "\n",
    "sample_tpl = (1, 2, 3, 4, 5)\n",
    "\n",
    "min_max_sum(sample_tpl)\n",
    "\n"
   ]
  },
  {
   "cell_type": "code",
   "execution_count": null,
   "id": "3f04542c",
   "metadata": {},
   "outputs": [],
   "source": []
  }
 ],
 "metadata": {
  "kernelspec": {
   "display_name": "Python 3",
   "language": "python",
   "name": "python3"
  },
  "language_info": {
   "codemirror_mode": {
    "name": "ipython",
    "version": 3
   },
   "file_extension": ".py",
   "mimetype": "text/x-python",
   "name": "python",
   "nbconvert_exporter": "python",
   "pygments_lexer": "ipython3",
   "version": "3.11.7"
  }
 },
 "nbformat": 4,
 "nbformat_minor": 5
}
