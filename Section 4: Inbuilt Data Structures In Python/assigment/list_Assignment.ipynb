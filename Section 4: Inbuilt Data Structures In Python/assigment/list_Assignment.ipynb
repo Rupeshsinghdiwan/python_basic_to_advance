{
 "cells": [
  {
   "cell_type": "markdown",
   "metadata": {},
   "source": [
    "# Module 3: Data Structures Assignments\n",
    "## Lesson 3.1: Lists\n",
    "### Assignment 1: Creating and Accessing Lists\n",
    "\n",
    "Create a list of the first 20 positive integers. Print the list.\n",
    "\n",
    "### Assignment 2: Accessing List Elements\n",
    "\n",
    "Print the first, middle, and last elements of the list created in Assignment 1.\n",
    "\n",
    "### Assignment 3: List Slicing\n",
    "\n",
    "Print the first five elements, the last five elements, and the elements from index 5 to 15 of the list created in Assignment 1.\n",
    "\n",
    "### Assignment 4: List Comprehensions\n",
    "\n",
    "Create a new list containing the squares of the first 10 positive integers using a list comprehension. Print the new list.\n",
    "\n",
    "### Assignment 5: Filtering Lists\n",
    "\n",
    "Create a new list containing only the even numbers from the list created in Assignment 1 using a list comprehension. Print the new list.\n",
    "\n",
    "### Assignment 6: List Methods\n",
    "\n",
    "Create a list of random numbers and sort it in ascending and descending order. Remove the duplicates from the list and print the modified list.\n",
    "\n",
    "### Assignment 7: Nested Lists\n",
    "\n",
    "Create a nested list representing a 3x3 matrix and print the matrix. Access and print the element at the second row and third column.\n",
    "\n",
    "### Assignment 8: List of Dictionaries\n",
    "\n",
    "Create a list of dictionaries where each dictionary represents a student with keys 'name' and 'score'. Sort the list of dictionaries by the 'score' in descending order and print the sorted list.\n",
    "\n",
    "### Assignment 9: Matrix Transposition\n",
    "\n",
    "Write a function that takes a 3x3 matrix (nested list) as input and returns its transpose. Print the original and transposed matrices.\n",
    "\n",
    "### Assignment 10: Flattening a Nested List\n",
    "\n",
    "Write a function that takes a nested list and flattens it into a single list. Print the original and flattened lists.\n",
    "\n",
    "### Assignment 11: List Manipulation\n",
    "\n",
    "Create a list of the first 10 positive integers. Remove the elements at indices 2, 4, and 6, and insert the element '99' at index 5. Print the modified list.\n",
    "\n",
    "### Assignment 12: List Zipping\n",
    "\n",
    "Create two lists of the same length. Use the `zip` function to combine these lists into a list of tuples and print the result.\n",
    "\n",
    "### Assignment 13: List Reversal\n",
    "\n",
    "Write a function that takes a list and returns a new list with the elements in reverse order. Print the original and reversed lists.\n",
    "\n",
    "### Assignment 14: List Rotation\n",
    "\n",
    "Write a function that rotates a list by n positions. Print the original and rotated lists.\n",
    "\n",
    "### Assignment 15: List Intersection\n",
    "\n",
    "Write a function that takes two lists and returns a new list containing only the elements that are present in both lists. Print the intersected list."
   ]
  },
  {
   "cell_type": "code",
   "execution_count": 4,
   "metadata": {},
   "outputs": [
    {
     "name": "stdout",
     "output_type": "stream",
     "text": [
      "21\n",
      "[0, 1, 2, 3, 4, 5, 6, 7, 8, 9, 10, 11, 12, 13, 14, 15, 16, 17, 18, 19, 20]\n"
     ]
    }
   ],
   "source": [
    " # Q 1\n",
    "list =[]\n",
    "i =0;\n",
    "while i < 21:\n",
    "    list.append(i)\n",
    "    i+=1\n",
    "print(len(list))\n",
    "print(list)\n"
   ]
  },
  {
   "cell_type": "code",
   "execution_count": 8,
   "id": "732f19cb",
   "metadata": {},
   "outputs": [
    {
     "name": "stdout",
     "output_type": "stream",
     "text": [
      "0\n",
      "10\n",
      "20\n"
     ]
    }
   ],
   "source": [
    "# Q 2\n",
    "print(list[0])\n",
    "x = len(list)\n",
    "print(list[x//2])\n",
    "print(list[x-1])"
   ]
  },
  {
   "cell_type": "code",
   "execution_count": 13,
   "id": "16bfd569",
   "metadata": {},
   "outputs": [
    {
     "name": "stdout",
     "output_type": "stream",
     "text": [
      "[0, 1, 2, 3, 4]\n",
      "[16, 17, 18, 19, 20]\n",
      "[5, 6, 7, 8, 9, 10, 11, 12, 13, 14, 15]\n"
     ]
    }
   ],
   "source": [
    "# Q 3\n",
    "print(list[:5])\n",
    "print(list[-5:])\n",
    "print(list[5:16])"
   ]
  },
  {
   "cell_type": "code",
   "execution_count": 17,
   "id": "777de55b",
   "metadata": {},
   "outputs": [
    {
     "name": "stdout",
     "output_type": "stream",
     "text": [
      "[1, 4, 9, 16, 25, 36, 49, 64, 81, 100]\n"
     ]
    }
   ],
   "source": [
    "# Q4\n",
    "new_list =[ num**2 for num in range( 1,11)]\n",
    "print(new_list)"
   ]
  },
  {
   "cell_type": "code",
   "execution_count": 18,
   "id": "7f52b563",
   "metadata": {},
   "outputs": [
    {
     "name": "stdout",
     "output_type": "stream",
     "text": [
      "[0, 2, 4, 6, 8, 10, 12, 14, 16, 18, 20]\n"
     ]
    }
   ],
   "source": [
    "# Q5\n",
    "even_no =[num for num in list if num%2 == 0]\n",
    "print(even_no)"
   ]
  },
  {
   "cell_type": "code",
   "execution_count": 35,
   "id": "2cb883af",
   "metadata": {},
   "outputs": [
    {
     "name": "stdout",
     "output_type": "stream",
     "text": [
      "[1, 3, 3, 4, 5, 6, 8, 9, 9, 11]\n",
      "[11, 9, 9, 8, 6, 5, 4, 3, 3, 1]\n",
      "[{1, 3, 4, 5, 6, 8, 9, 11}]\n"
     ]
    }
   ],
   "source": [
    "### Q6\n",
    "random_no = [1,3,4,9,6,8,9,11,3,5]\n",
    "random_no.sort()\n",
    "print(random_no)\n",
    "random_no.sort(reverse=True)\n",
    "print(random_no)\n",
    "unique_no = set(random_no)\n",
    "unique_no_1 = [unique_no]\n",
    "print(unique_no_1)"
   ]
  },
  {
   "cell_type": "code",
   "execution_count": 36,
   "id": "86838ad6",
   "metadata": {},
   "outputs": [
    {
     "name": "stdout",
     "output_type": "stream",
     "text": [
      "Matrix:\n",
      "[1, 2, 3]\n",
      "[4, 5, 6]\n",
      "[7, 8, 9]\n",
      "Element at second row and third column: 6\n"
     ]
    }
   ],
   "source": [
    "#  Q 7\n",
    "matrix = [\n",
    "    [1, 2, 3],\n",
    "    [4, 5, 6],\n",
    "    [7, 8, 9]\n",
    "]\n",
    "print(\"Matrix:\")\n",
    "for row in matrix:\n",
    "    print(row)\n",
    "print(f\"Element at second row and third column: {matrix[1][2]}\")"
   ]
  },
  {
   "cell_type": "code",
   "execution_count": 14,
   "id": "13e64d4c",
   "metadata": {},
   "outputs": [
    {
     "name": "stdout",
     "output_type": "stream",
     "text": [
      "[{'name': 'raj ', 'score': 80}, {'name': 'sunny', 'score': 100}, {'name': 'rupesh', 'score': 23}]\n",
      "dict_keys(['name', 'score'])\n",
      "dict_values(['raj ', 80])\n",
      "dict_items([('name', 'raj '), ('score', 80)])\n",
      "[{'name': 'sunny', 'score': 100}, {'name': 'raj ', 'score': 80}, {'name': 'rupesh', 'score': 23}]\n"
     ]
    }
   ],
   "source": [
    "#Q 8\n",
    "student_list = list()\n",
    "for dict in range(3):\n",
    "    name = input(\"enter name\")\n",
    "    score = int(input(\"enter score\"))\n",
    "    dictionary={'name':name ,'score':score }\n",
    "    student_list.append(dictionary)\n",
    "\n",
    "print(student_list)\n",
    "print(student_list[0].keys())\n",
    "print(student_list[0].values())\n",
    "print(student_list[0].items())\n",
    "\n",
    "sorted_student = sorted(student_list, key= lambda x:x['score'] ,reverse=True)\n",
    "print(sorted_student)\n"
   ]
  },
  {
   "cell_type": "code",
   "execution_count": 43,
   "id": "e3e87b05",
   "metadata": {},
   "outputs": [
    {
     "name": "stdout",
     "output_type": "stream",
     "text": [
      "[1, 2, 3]\n",
      "[3, 4, 5]\n",
      "[6, 7, 8]\n"
     ]
    }
   ],
   "source": [
    "#Q9\n",
    "def transpose_matrix()\n",
    "\n",
    "matrix =[\n",
    "    [1,2,3],\n",
    "    [3,4,5],\n",
    "    [6,7,8]\n",
    "]\n",
    "for row in matrix:\n",
    "    print(row)\n"
   ]
  },
  {
   "cell_type": "code",
   "execution_count": 21,
   "id": "b82fdf1e",
   "metadata": {},
   "outputs": [
    {
     "name": "stdout",
     "output_type": "stream",
     "text": [
      " original list is : [[1, 2, 3, 4, 5], [6, 7, 8, 9, 10], [11, 12, 13, 14, 15]]\n",
      "flatter list is :  [1, 2, 3, 4, 5, 6, 7, 8, 9, 10, 11, 12, 13, 14, 15]\n"
     ]
    }
   ],
   "source": [
    "# Q 10\n",
    "\n",
    "def flatter_list ( nested_list):\n",
    "    flatter= [num  for sublist in nested_list  for num in sublist]\n",
    "    return flatter\n",
    "\n",
    "nested_list =[\n",
    "    [1,2,3,4,5],\n",
    "    [6,7,8,9,10],\n",
    "    [11,12,13,14,15]\n",
    "]\n",
    "print( f\" original list is : { nested_list}\")\n",
    "print(f\"flatter list is :  { flatter_list(nested_list)}\")"
   ]
  },
  {
   "cell_type": "code",
   "execution_count": 22,
   "id": "cf607d89",
   "metadata": {},
   "outputs": [
    {
     "name": "stdout",
     "output_type": "stream",
     "text": [
      " original list [0, 1, 2, 3, 4, 5, 6, 7, 8, 9]\n",
      "after deletion :  [0, 1, 3, 4, 6, 7, 9]\n",
      "final list :  [0, 1, 3, 4, 6, 99, 9]\n"
     ]
    }
   ],
   "source": [
    "# Q 11\n",
    "list =[]\n",
    "for num in range(10):\n",
    "    list.append(num)\n",
    "print(f\" original list {list}\")\n",
    "\n",
    "for num in list:\n",
    "    if list[2] == num:\n",
    "        list.remove(num)\n",
    "    elif list[4] == num:\n",
    "        list.remove(num)\n",
    "    elif list[6] == num:\n",
    "        list.remove(num)\n",
    "print(f\"after deletion :  {list}\")\n",
    "\n",
    "list[5] = 99\n",
    "print(f\"final list :  {list}\")\n"
   ]
  },
  {
   "cell_type": "code",
   "execution_count": 32,
   "id": "f56c2ced",
   "metadata": {},
   "outputs": [
    {
     "ename": "TypeError",
     "evalue": "'list' object is not callable",
     "output_type": "error",
     "traceback": [
      "\u001b[1;31m---------------------------------------------------------------------------\u001b[0m",
      "\u001b[1;31mTypeError\u001b[0m                                 Traceback (most recent call last)",
      "Cell \u001b[1;32mIn[32], line 4\u001b[0m\n\u001b[0;32m      2\u001b[0m list1 \u001b[38;5;241m=\u001b[39m [\u001b[38;5;241m1\u001b[39m, \u001b[38;5;241m2\u001b[39m, \u001b[38;5;241m3\u001b[39m, \u001b[38;5;241m4\u001b[39m, \u001b[38;5;241m5\u001b[39m]\n\u001b[0;32m      3\u001b[0m list2 \u001b[38;5;241m=\u001b[39m [\u001b[38;5;124m'\u001b[39m\u001b[38;5;124ma\u001b[39m\u001b[38;5;124m'\u001b[39m, \u001b[38;5;124m'\u001b[39m\u001b[38;5;124mb\u001b[39m\u001b[38;5;124m'\u001b[39m, \u001b[38;5;124m'\u001b[39m\u001b[38;5;124mc\u001b[39m\u001b[38;5;124m'\u001b[39m, \u001b[38;5;124m'\u001b[39m\u001b[38;5;124md\u001b[39m\u001b[38;5;124m'\u001b[39m, \u001b[38;5;124m'\u001b[39m\u001b[38;5;124me\u001b[39m\u001b[38;5;124m'\u001b[39m]\n\u001b[1;32m----> 4\u001b[0m \u001b[38;5;28mlist\u001b[39m\u001b[38;5;241m=\u001b[39m\u001b[38;5;28mlist\u001b[39m()\n\u001b[0;32m      5\u001b[0m zipped \u001b[38;5;241m=\u001b[39m \u001b[38;5;28mlist\u001b[39m(\u001b[38;5;28mzip\u001b[39m(list1, list2))\n\u001b[0;32m      6\u001b[0m \u001b[38;5;28mprint\u001b[39m(zipped)\n",
      "\u001b[1;31mTypeError\u001b[0m: 'list' object is not callable"
     ]
    }
   ],
   "source": [
    "# Q 12\n",
    "list1 = [1, 2, 3, 4, 5]\n",
    "list2 = ['a', 'b', 'c', 'd', 'e']\n",
    "list=list()\n",
    "zipped = list(zip(list1, list2))\n",
    "print(zipped)"
   ]
  },
  {
   "cell_type": "code",
   "execution_count": 38,
   "id": "5a888d81",
   "metadata": {},
   "outputs": [
    {
     "name": "stdout",
     "output_type": "stream",
     "text": [
      "original list : [1, 2, 3, 4, 5, 6, 7, 8, 9, 10]\n",
      "reverse list :[10, 9, 8, 7, 6, 5, 4, 3, 2, 1]\n"
     ]
    }
   ],
   "source": [
    "# Q 13\n",
    "def reverse_list(list):\n",
    "    return list[::-1]\n",
    "list1 = [ 1,2,3,4,5,6,7,8,9,10]\n",
    "print(f\"original list : {list1}\")\n",
    "list2 = reverse_list(list1)\n",
    "print(f\"reverse list :{ list2}\")"
   ]
  },
  {
   "cell_type": "code",
   "execution_count": 40,
   "id": "1187db3b",
   "metadata": {},
   "outputs": [
    {
     "name": "stdout",
     "output_type": "stream",
     "text": [
      "original list[1, 2, 3, 4, 5, 6, 7, 8, 9, 10]\n",
      "new list:[6, 7, 8, 9, 10, 1, 2, 3, 4, 5]\n"
     ]
    }
   ],
   "source": [
    "# Q 14 \n",
    "def reverse_at_n(list , n):\n",
    "    return list[n:] + list[:n]\n",
    "\n",
    "list=[1,2,3,4,5,6,7,8,9,10]\n",
    "print(f\"original list{list}\")\n",
    "print(f\"new list:{ reverse_at_n(list,5)}\")\n"
   ]
  },
  {
   "cell_type": "code",
   "execution_count": 53,
   "id": "4d365088",
   "metadata": {},
   "outputs": [
    {
     "name": "stdout",
     "output_type": "stream",
     "text": [
      "List 1: [1, 2, 3, 4, 5]\n",
      "List 2: [3, 4, 5, 6, 7]\n",
      "Intersection: [3, 4, 5]\n"
     ]
    }
   ],
   "source": [
    "# Q 15 \n",
    "def list_intersection(lst1, lst2):\n",
    "    return [x for x in lst1 if x in lst2]\n",
    "\n",
    "list1 = [1, 2, 3, 4, 5]\n",
    "list2 = [3, 4, 5, 6, 7]\n",
    "intersection = list_intersection(list1, list2)\n",
    "print(f\"List 1: {list1}\")\n",
    "print(f\"List 2: {list2}\")\n",
    "print(f\"Intersection: {intersection}\")\n"
   ]
  }
 ],
 "metadata": {
  "kernelspec": {
   "display_name": "Python 3",
   "language": "python",
   "name": "python3"
  },
  "language_info": {
   "codemirror_mode": {
    "name": "ipython",
    "version": 3
   },
   "file_extension": ".py",
   "mimetype": "text/x-python",
   "name": "python",
   "nbconvert_exporter": "python",
   "pygments_lexer": "ipython3",
   "version": "3.11.7"
  }
 },
 "nbformat": 4,
 "nbformat_minor": 5
}
