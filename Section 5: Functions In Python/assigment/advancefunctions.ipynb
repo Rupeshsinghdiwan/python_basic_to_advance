{
 "cells": [
  {
   "cell_type": "markdown",
   "metadata": {},
   "source": [
    "# Module 4: Advanced Functions Assignments\n",
    "## Lesson 4.1: Defining Functions\n",
    "### Assignment 1: Fibonacci Sequence with Memoization\n",
    "\n",
    "Define a recursive function to calculate the nth Fibonacci number using memoization. Test the function with different inputs.\n",
    "\n",
    "\n",
    "### Assignment 2: Function with Nested Default Arguments\n",
    "\n",
    "Define a function that takes two arguments, a and b, where b is a dictionary with a default value of an empty dictionary. The function should add a new key-value pair to the dictionary and return it. Test the function with different inputs.\n",
    "\n",
    "### Assignment 3: Function with Variable Keyword Arguments\n",
    "\n",
    "Define a function that takes a variable number of keyword arguments and returns a dictionary containing only those key-value pairs where the value is an integer. Test the function with different inputs.\n",
    "\n",
    "### Assignment 4: Function with Callback\n",
    "\n",
    "Define a function that takes another function as a callback and a list of integers. The function should apply the callback to each integer in the list and return a new list with the results. Test with different callback functions.\n",
    "\n",
    "### Assignment 5: Function that Returns a Function\n",
    "\n",
    "Define a function that returns another function. The returned function should take an integer and return its square. Test the returned function with different inputs.\n",
    "\n",
    "### Assignment 6: Function with Decorators\n",
    "\n",
    "Define a function that calculates the time taken to execute another function. Apply this decorator to a function that performs a complex calculation. Test the decorated function with different inputs.\n",
    "\n",
    "### Assignment 7: Higher-Order Function for Filtering and Mapping\n",
    "\n",
    "Define a higher-order function that takes two functions, a filter function and a map function, along with a list of integers. The higher-order function should first filter the integers using the filter function and then apply the map function to the filtered integers. Test with different filter and map functions.\n",
    "\n",
    "### Assignment 8: Function Composition\n",
    "\n",
    "Define a function that composes two functions, f and g, such that the result is f(g(x)). Test with different functions f and g.\n",
    "\n",
    "### Assignment 9: Partial Function Application\n",
    "\n",
    "Use the functools.partial function to create a new function that multiplies its input by 2. Test the new function with different inputs.\n",
    "\n",
    "### Assignment 10: Function with Error Handling\n",
    "\n",
    "Define a function that takes a list of integers and returns their average. The function should handle any errors that occur (e.g., empty list) and return None in such cases. Test with different inputs.\n",
    "\n",
    "### Assignment 11: Function with Generators\n",
    "\n",
    "Define a function that generates an infinite sequence of Fibonacci numbers. Test by printing the first 10 numbers in the sequence.\n",
    "\n",
    "### Assignment 12: Currying\n",
    "\n",
    "Define a curried function that takes three arguments, one at a time, and returns their product. Test the function by providing arguments one at a time.\n",
    "\n",
    "### Assignment 13: Function with Context Manager\n",
    "\n",
    "Define a function that uses a context manager to write a list of integers to a file. The function should handle any errors that occur during file operations. Test with different lists.\n",
    "\n",
    "### Assignment 14: Function with Multiple Return Types\n",
    "\n",
    "Define a function that takes a list of mixed data types (integers, strings, and floats) and returns three lists: one containing all the integers, one containing all the strings, and one containing all the floats. Test with different inputs.\n",
    "\n",
    "### Assignment 15: Function with State\n",
    "\n",
    "Define a function that maintains state between calls using a mutable default argument. The function should keep track of how many times it has been called. Test by calling the function multiple times."
   ]
  },
  {
   "cell_type": "markdown",
   "id": "fe8d939c",
   "metadata": {},
   "source": [
    "### Assignment 1: Fibonacci Sequence with Memoization\n",
    "\n",
    "Define a recursive function to calculate the nth Fibonacci number using memoization. Test the function with different inputs."
   ]
  },
  {
   "cell_type": "code",
   "execution_count": 7,
   "id": "6bad56bc",
   "metadata": {},
   "outputs": [
    {
     "name": "stdout",
     "output_type": "stream",
     "text": [
      "5\n",
      "2\n"
     ]
    }
   ],
   "source": [
    "\n",
    "'''\n",
    "\n",
    "def fibonacci (n):\n",
    "    if n== 0:\n",
    "        return 0\n",
    "    elif n== 1:\n",
    "        return 1\n",
    "    else:\n",
    "        return( fibonacci(n-1)+fibonacci(n-2))\n",
    "    \n",
    "print(fibonacci(3))\n",
    "\n",
    "'''\n",
    "def fibonacci(n ,memo={}):\n",
    "    if n in memo:\n",
    "        return memo[n]\n",
    "    if n <= 1:\n",
    "        return n\n",
    "    memo[n]= fibonacci(n-1 ,memo) +fibonacci(n-2,memo)\n",
    "    return memo[n]\n",
    "\n",
    "print(fibonacci(5))\n",
    "print(fibonacci(3))\n",
    "    \n",
    "\n",
    "    "
   ]
  },
  {
   "cell_type": "markdown",
   "id": "1fff2f31",
   "metadata": {},
   "source": [
    "### Assignment 2: Function with Nested Default Arguments\n",
    "\n",
    "Define a function that takes two arguments, a and b, where b is a dictionary with a default value of an empty dictionary. The function should add a new key-value pair to the dictionary and return it. Test the function with different inputs."
   ]
  },
  {
   "cell_type": "code",
   "execution_count": 12,
   "id": "e07f43d4",
   "metadata": {},
   "outputs": [
    {
     "name": "stdout",
     "output_type": "stream",
     "text": [
      "{2: 4}\n",
      "{1: 1, 2: 4, 3: 9, 5: 25}\n"
     ]
    }
   ],
   "source": [
    "def add_key_value ( a, b = None):\n",
    "    if b is None:\n",
    "          b ={}\n",
    "    b[a] = a**2\n",
    "    return b\n",
    "\n",
    "print( add_key_value(2))\n",
    "print(add_key_value(5,{1:1,2:4,3:9}))\n",
    "\n"
   ]
  },
  {
   "cell_type": "markdown",
   "id": "4b71bdae",
   "metadata": {},
   "source": [
    "### Assignment 3: Function with Variable Keyword Arguments\n",
    "\n",
    "Define a function that takes a variable number of keyword arguments and returns a dictionary containing only those key-value pairs where the value is an integer. Test the function with different inputs."
   ]
  },
  {
   "cell_type": "code",
   "execution_count": 24,
   "id": "bac0d1b8",
   "metadata": {},
   "outputs": [
    {
     "data": {
      "text/plain": [
       "{'one': 1, 'three': 3}"
      ]
     },
     "execution_count": 24,
     "metadata": {},
     "output_type": "execute_result"
    }
   ],
   "source": [
    "def check_num_value(**kwargs):\n",
    "    return { x:y for x,y in kwargs.items() if isinstance(y,int)}\n",
    "\n",
    "check_num_value(one = 1, two = \"two\", three = 3)"
   ]
  },
  {
   "cell_type": "markdown",
   "id": "e717c421",
   "metadata": {},
   "source": [
    "### Assignment 4: Function with Callback\n",
    "\n",
    "Define a function that takes another function as a callback and a list of integers. The function should apply the callback to each integer in the list and return a new list with the results. Test with different callback functions.\n",
    "\n",
    "\n"
   ]
  },
  {
   "cell_type": "code",
   "execution_count": 30,
   "id": "7c005a23",
   "metadata": {},
   "outputs": [
    {
     "name": "stdout",
     "output_type": "stream",
     "text": [
      "[1, 4, 9, 16, 25, 36]\n"
     ]
    }
   ],
   "source": [
    "def apply_callback( callback,lst):\n",
    "    return[ callback(num) for num in lst]\n",
    "\n",
    "lst = [1,2,3,4,5,6]\n",
    "print(apply_callback(lambda num : num**2 , lst))\n"
   ]
  },
  {
   "cell_type": "markdown",
   "id": "dd89506a",
   "metadata": {},
   "source": [
    "### Assignment 5: Function that Returns a Function\n",
    "\n",
    "Define a function that returns another function. The returned function should take an integer and return its square. Test the returned function with different inputs.\n",
    "\n"
   ]
  },
  {
   "cell_type": "code",
   "execution_count": 33,
   "id": "567b095b",
   "metadata": {},
   "outputs": [
    {
     "name": "stdout",
     "output_type": "stream",
     "text": [
      "4\n",
      "25\n"
     ]
    }
   ],
   "source": [
    "def outer_function():\n",
    "    def inner_function(x):\n",
    "        return x ** 2\n",
    "    return inner_function\n",
    "\n",
    "# Test\n",
    "square = outer_function()\n",
    "print(square(2))  # 4\n",
    "print(square(5))  # 25"
   ]
  },
  {
   "cell_type": "markdown",
   "id": "ca1a944e",
   "metadata": {},
   "source": [
    "### Assignment 6: Function with Decorators\n",
    "\n",
    "Define a function that calculates the time taken to execute another function. Apply this decorator to a function that performs a complex calculation. Test the decorated function with different inputs.\n",
    "\n"
   ]
  },
  {
   "cell_type": "code",
   "execution_count": null,
   "id": "9f5d722e",
   "metadata": {},
   "outputs": [],
   "source": []
  },
  {
   "cell_type": "markdown",
   "id": "83918024",
   "metadata": {},
   "source": [
    "### Assignment 7: Higher-Order Function for Filtering and Mapping\n",
    "\n",
    "Define a higher-order function that takes two functions, a filter function and a map function, along with a list of integers. The higher-order function should first filter the integers using the filter function and then apply the map function to the filtered integers. Test with different filter and map functions.\n",
    "\n"
   ]
  },
  {
   "cell_type": "code",
   "execution_count": 39,
   "id": "6f042503",
   "metadata": {},
   "outputs": [
    {
     "name": "stdout",
     "output_type": "stream",
     "text": [
      "[1, 4, 9, 16, 25, 36]\n"
     ]
    }
   ],
   "source": [
    "def higher_order(integer, square, lst):\n",
    "    lst = list( filter(integer,lst))\n",
    "    lst = list(map(square,lst))\n",
    "    return lst\n",
    "\n",
    "\n",
    "list1 = [1,2,3,4,\"ram\",5,6]\n",
    "\n",
    "def integer(x):\n",
    "    return isinstance(x,int)\n",
    "    \n",
    "def square(x):\n",
    "    return x**2\n",
    "\n",
    "print(higher_order(integer,square,list1))\n",
    "\n"
   ]
  },
  {
   "cell_type": "markdown",
   "id": "42bf77c2",
   "metadata": {},
   "source": [
    "### Assignment 8: Function Composition\n",
    "\n",
    "Define a function that composes two functions, f and g, such that the result is f(g(x)). Test with different functions f and g."
   ]
  },
  {
   "cell_type": "code",
   "execution_count": 2,
   "id": "bcd18091",
   "metadata": {},
   "outputs": [
    {
     "name": "stdout",
     "output_type": "stream",
     "text": [
      "3\n",
      "11\n"
     ]
    }
   ],
   "source": [
    "def compose(f, g):\n",
    "    return lambda x: f(g(x))\n",
    "\n",
    "# Test\n",
    "f = lambda x: x + 1\n",
    "g = lambda x: x * 2\n",
    "h = compose(f, g)\n",
    "print(h(1))  # 7\n",
    "print(h(5))  # 11"
   ]
  },
  {
   "cell_type": "markdown",
   "id": "001d3662",
   "metadata": {},
   "source": [
    "\n",
    "### Assignment 9: Partial Function Application\n",
    "\n",
    "Use the functools.partial function to create a new function that multiplies its input by 2. Test the new function with different inputs.\n",
    "\n"
   ]
  },
  {
   "cell_type": "code",
   "execution_count": 3,
   "id": "da17455b",
   "metadata": {},
   "outputs": [
    {
     "name": "stdout",
     "output_type": "stream",
     "text": [
      "6\n",
      "10\n"
     ]
    }
   ],
   "source": [
    "from functools import partial\n",
    "\n",
    "multiply_by_2 = partial(lambda x, y: x * y, 2)\n",
    "\n",
    "# Test\n",
    "print(multiply_by_2(3))  # 6\n",
    "print(multiply_by_2(5))  # 10"
   ]
  },
  {
   "cell_type": "markdown",
   "id": "946c7ff2",
   "metadata": {},
   "source": [
    "### Assignment 10: Function with Error Handling\n",
    "\n",
    "Define a function that takes a list of integers and returns their average. The function should handle any errors that occur (e.g., empty list) and return None in such cases. Test with different inputs.\n"
   ]
  },
  {
   "cell_type": "code",
   "execution_count": 13,
   "id": "ddc26687",
   "metadata": {},
   "outputs": [
    {
     "name": "stdout",
     "output_type": "stream",
     "text": [
      "55\n"
     ]
    },
    {
     "data": {
      "text/plain": [
       "' none'"
      ]
     },
     "execution_count": 13,
     "metadata": {},
     "output_type": "execute_result"
    }
   ],
   "source": [
    "def average_of_list(lis):\n",
    "    sum =0\n",
    "    if len(lis) == 0:\n",
    "        return \" none\"\n",
    "    for num in lis:\n",
    "        sum+= num\n",
    "    print(sum)\n",
    "lis= [1,2,3,4,5,6,7,8,9,10]\n",
    "liss=[]\n",
    "average_of_list(lis)\n",
    "average_of_list(liss)\n"
   ]
  },
  {
   "cell_type": "markdown",
   "id": "81186ef1",
   "metadata": {},
   "source": [
    "### Assignment 11: Function with Generators\n",
    "\n",
    "Define a function that generates an infinite sequence of Fibonacci numbers. Test by printing the first 10 numbers in the sequence.\n",
    "\n"
   ]
  },
  {
   "cell_type": "code",
   "execution_count": 12,
   "id": "3096af3c",
   "metadata": {},
   "outputs": [
    {
     "name": "stdout",
     "output_type": "stream",
     "text": [
      "0\n",
      "1\n",
      "1\n",
      "2\n",
      "3\n",
      "5\n",
      "8\n",
      "13\n",
      "21\n",
      "34\n"
     ]
    }
   ],
   "source": [
    "def fibonacci_generator():\n",
    "    a, b = 0, 1\n",
    "    while True:\n",
    "        yield a\n",
    "        a, b = b, a + b\n",
    "\n",
    "# Test\n",
    "fib_gen = fibonacci_generator()\n",
    "for _ in range(10):\n",
    "    print(next(fib_gen))"
   ]
  },
  {
   "cell_type": "markdown",
   "id": "4ae627de",
   "metadata": {},
   "source": [
    "### Assignment 12: Currying\n",
    "\n",
    "Define a curried function that takes three arguments, one at a time, and returns their product. Test the function by providing arguments one at a time.\n",
    "\n"
   ]
  },
  {
   "cell_type": "code",
   "execution_count": 11,
   "id": "2180e614",
   "metadata": {},
   "outputs": [
    {
     "name": "stdout",
     "output_type": "stream",
     "text": [
      "8\n"
     ]
    }
   ],
   "source": [
    "def curried_function(x):\n",
    "    def fun1(y):\n",
    "        def fun2(z):\n",
    "            return x*y*z\n",
    "        return fun2\n",
    "    return fun1\n",
    "    \n",
    "print(curried_function(2)(2)(2))"
   ]
  },
  {
   "cell_type": "markdown",
   "id": "97b63d58",
   "metadata": {},
   "source": [
    "### Assignment 13: Function with Context Manager\n",
    "\n",
    "Define a function that uses a context manager to write a list of integers to a file. The function should handle any errors that occur during file operations. Test with different lists.\n",
    "\n"
   ]
  },
  {
   "cell_type": "code",
   "execution_count": 9,
   "id": "270b1a31",
   "metadata": {},
   "outputs": [],
   "source": [
    "def write_to_file(lst, filename):\n",
    "    try:\n",
    "        with open(filename, 'w') as f:\n",
    "            for num in lst:\n",
    "                f.write(f\"{num}\\n\")\n",
    "    except IOError as e:\n",
    "        print(f\"An error occurred: {e}\")\n",
    "\n",
    "# Test\n",
    "write_to_file([1, 2, 3, 4, 5], 'rupesh.txt')"
   ]
  },
  {
   "cell_type": "markdown",
   "id": "f579b97e",
   "metadata": {},
   "source": [
    "### Assignment 14: Function with Multiple Return Types\n",
    "\n",
    "Define a function that takes a list of mixed data types (integers, strings, and floats) and returns three lists: one containing all the integers, one containing all the strings, and one containing all the floats. Test with different inputs.\n",
    "\n"
   ]
  },
  {
   "cell_type": "code",
   "execution_count": 8,
   "id": "e24945ae",
   "metadata": {},
   "outputs": [
    {
     "name": "stdout",
     "output_type": "stream",
     "text": [
      "[1, 2, 3, 4]\n",
      "['rupesh', 'raj', 'sunny']\n",
      "[1.0, 2.0, 3.0, 4.0, 5.0]\n"
     ]
    }
   ],
   "source": [
    "def convert(lis):\n",
    "    int1=[]\n",
    "    str1=[]\n",
    "    float1 =[]\n",
    "    for num in lis:\n",
    "        if isinstance(num,int):\n",
    "            int1.append(num)\n",
    "        elif isinstance(num,str):\n",
    "            str1.append(num)\n",
    "        else:\n",
    "            float1.append(num)\n",
    "    print(int1)\n",
    "    print(str1)\n",
    "    print(float1)\n",
    "          \n",
    "        \n",
    "lis = [ 1,2,3,4,'rupesh','raj','sunny', 1.00,2.00,3.00,4.00,5.00]\n",
    "\n",
    "convert(lis)"
   ]
  },
  {
   "cell_type": "markdown",
   "id": "1db99ecf",
   "metadata": {},
   "source": [
    "### Assignment 15: Function with State\n",
    "\n",
    "Define a function that maintains state between calls using a mutable default argument. The function should keep track of how many times it has been called. Test by calling the function multiple times."
   ]
  },
  {
   "cell_type": "code",
   "execution_count": 3,
   "id": "3a19f905",
   "metadata": {},
   "outputs": [
    {
     "name": "stdout",
     "output_type": "stream",
     "text": [
      "1\n",
      "2\n",
      "3\n"
     ]
    }
   ],
   "source": [
    "def call_counter(counter={'count': 0}):\n",
    "    counter['count'] += 1\n",
    "    return counter['count']\n",
    "\n",
    "# Test\n",
    "print(call_counter())  # 1\n",
    "print(call_counter())  # 2\n",
    "print(call_counter())  # 3"
   ]
  }
 ],
 "metadata": {
  "kernelspec": {
   "display_name": "Python 3",
   "language": "python",
   "name": "python3"
  },
  "language_info": {
   "codemirror_mode": {
    "name": "ipython",
    "version": 3
   },
   "file_extension": ".py",
   "mimetype": "text/x-python",
   "name": "python",
   "nbconvert_exporter": "python",
   "pygments_lexer": "ipython3",
   "version": "3.11.7"
  }
 },
 "nbformat": 4,
 "nbformat_minor": 5
}
